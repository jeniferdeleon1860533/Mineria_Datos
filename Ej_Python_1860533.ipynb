{
 "cells": [
  {
   "cell_type": "markdown",
   "metadata": {},
   "source": [
    "**EJERCICIOS BÁSICOS DE PYTHON**\n",
    "\n",
    "Nombre: Jennifer Priscila de León Flores\n",
    "\n",
    "Matrícula: 1860533, Grupo: 003 \n",
    "\n",
    "\n",
    "**Ejercicio 1**\n",
    "\n",
    "Realiza una variable con tu matricula y realiza una secuencia de imprimir con tu nombre y tu matricula concatenados.\n"
   ]
  },
  {
   "cell_type": "code",
   "execution_count": 2,
   "metadata": {},
   "outputs": [
    {
     "name": "stdout",
     "output_type": "stream",
     "text": [
      "Jennifer Priscila de León Flores  1860533\n"
     ]
    }
   ],
   "source": [
    "m=1860533\n",
    "nombre='Jennifer Priscila de León Flores'\n",
    "print(nombre,\"\",str(m))"
   ]
  },
  {
   "cell_type": "markdown",
   "metadata": {},
   "source": [
    "**Ejercicio 2**\n",
    "\n",
    "Pidiendo el input del usuario pide dos números y crea una pequeña calculadora con los operadores básicos de suma, resta, multiplicación, división, y exponente."
   ]
  },
  {
   "cell_type": "code",
   "execution_count": 3,
   "metadata": {},
   "outputs": [
    {
     "name": "stdout",
     "output_type": "stream",
     "text": [
      "Introduce un número  5\n",
      "Introduce otro número  2\n",
      "La suma de los números es  7\n",
      "La resta de los números es  3\n",
      "La multiplicación de los números es  10\n",
      "La división de los números es  2.5\n",
      "El número uno elevado al exponente del numero 2 es  7\n"
     ]
    }
   ],
   "source": [
    "a=int(input(\"Introduce un número  \"))\n",
    "b=int(input(\"Introduce otro número  \"))\n",
    "suma=a+b\n",
    "resta=a-b\n",
    "mult=a*b\n",
    "div=a/b\n",
    "exp=a^b\n",
    "print(\"La suma de los números es \",suma)\n",
    "print(\"La resta de los números es \",resta)\n",
    "print(\"La multiplicación de los números es \",mult)\n",
    "print(\"La división de los números es \",div)\n",
    "print(\"El número uno elevado al exponente del numero 2 es \",exp)"
   ]
  },
  {
   "cell_type": "markdown",
   "metadata": {},
   "source": [
    "**Ejercicio 3**\n",
    "\n",
    "Con loop while o for, realiza una lista de 10 numeros multiplos de 3, y después realiza una función de loop que sume todos los números dentro del arreglo."
   ]
  },
  {
   "cell_type": "code",
   "execution_count": 14,
   "metadata": {},
   "outputs": [
    {
     "name": "stdout",
     "output_type": "stream",
     "text": [
      "[0, 3, 6, 9, 12, 15, 18, 21, 24, 27, 30]\n",
      "La suma es  165\n"
     ]
    }
   ],
   "source": [
    "lista=[]\n",
    "k=0\n",
    "while len(lista)<=10:\n",
    "    if k%3==0:\n",
    "        lista.append(k)\n",
    "    k=k+1\n",
    "print(lista)\n",
    "j=0\n",
    "for lista in lista:\n",
    "    j=j+lista\n",
    "print(\"La suma es \",j)"
   ]
  },
  {
   "cell_type": "markdown",
   "metadata": {},
   "source": [
    "**Ejercicio 4**\n",
    "\n",
    "Con una función de if else, revisar si un número es par o es impar.\n"
   ]
  },
  {
   "cell_type": "code",
   "execution_count": 4,
   "metadata": {},
   "outputs": [
    {
     "name": "stdout",
     "output_type": "stream",
     "text": [
      "Escriba un número 8\n",
      "El número es par\n"
     ]
    }
   ],
   "source": [
    "num=int(input(\"Escriba un número \"))\n",
    "if num%2==0:\n",
    "    print(\"El número es par\")\n",
    "else:\n",
    "    print(\"El número es impar\")"
   ]
  },
  {
   "cell_type": "markdown",
   "metadata": {},
   "source": [
    "Con una función de if else, revisar si un número es primo o no."
   ]
  },
  {
   "cell_type": "code",
   "execution_count": 43,
   "metadata": {},
   "outputs": [
    {
     "name": "stdout",
     "output_type": "stream",
     "text": [
      "Ingresa un número  8\n",
      "El número no es primo\n"
     ]
    }
   ],
   "source": [
    "numero= int(input(\"Ingresa un número  \"))\n",
    "v= range(2,numero)\n",
    "contador = 0\n",
    "for n in v:\n",
    "  if numero % n == 0:\n",
    "    contador=contador+1\n",
    "    \n",
    "if contador > 0 :\n",
    "    print(\"El número no es primo\" )\n",
    "else:\n",
    "    print(\"El número es primo\")"
   ]
  },
  {
   "cell_type": "markdown",
   "metadata": {},
   "source": [
    "**Ejercicio 5**\n",
    "\n",
    "Utilizando diferentes clases en python, crea una calculadora con los operadores básicos de suma, resta, multiplicación, división, y exponente."
   ]
  },
  {
   "cell_type": "code",
   "execution_count": 46,
   "metadata": {},
   "outputs": [
    {
     "name": "stdout",
     "output_type": "stream",
     "text": [
      "CALCULADORA\n",
      "Que quieres hacer\n",
      "1.Suma  2.Resta  3.Multiplicación  4.División  5.Exponente   1\n",
      "Opción elegida 1\n",
      "Ingresa un número  5\n",
      "Ingresa otro número  4\n",
      "La suma es   9\n"
     ]
    }
   ],
   "source": [
    "\n",
    "print(\"CALCULADORA\")\n",
    "print(\"Que quieres hacer\")\n",
    "num=int(input(\"1.Suma  2.Resta  3.Multiplicación  4.División  5.Exponente   \"))\n",
    "print(\"Opción elegida\",num)\n",
    "n1=int(input(\"Ingresa un número  \"  ))\n",
    "n2=int(input(\"Ingresa otro número  \" ))\n",
    "if num==1:\n",
    "    j=n1+n2\n",
    "    print(\"La suma es  \",j)\n",
    "elif num==2:\n",
    "    j=n1-n2\n",
    "    print(\"La resta es  \",j)\n",
    "elif num==3:\n",
    "    j=n1*n2\n",
    "    print(\"La multiplicación es  \",j)\n",
    "elif num==4:\n",
    "    j=n1^n2\n",
    "    print(\"La división es  \",j)\n",
    "elif num==5:\n",
    "    print(\"El número uno con exponente del número 2 es  \",j)\n",
    "else:\n",
    "    print(\"Opción incorrecta\")\n"
   ]
  },
  {
   "cell_type": "markdown",
   "metadata": {},
   "source": [
    "**EJERCICIOS CON ESTRUCTURAS BÁSICAS EN PYTHON**\n",
    "\n",
    "Tuplas\n",
    "\n",
    "Crear una variable flotante, integer, boleana y compleja e imprimir el tipo de variable que es."
   ]
  },
  {
   "cell_type": "code",
   "execution_count": 62,
   "metadata": {},
   "outputs": [
    {
     "name": "stdout",
     "output_type": "stream",
     "text": [
      "El 0.31415 es del tipo <class 'float'>\n",
      "El  24 es del tipo <class 'int'>\n",
      "El  False es del tipo <class 'bool'>\n",
      "El  (10+45j) es del tipo <class 'complex'>\n"
     ]
    }
   ],
   "source": [
    "f=0.31415\n",
    "tipo=type(f)\n",
    "print(\"El\",f, \"es del tipo\",tipo)\n",
    "i=24\n",
    "tipo=type(i)\n",
    "print(\"El \",i,\"es del tipo\",tipo)\n",
    "b=False\n",
    "tipo=type(b)\n",
    "print(\"El \",b,\"es del tipo\",tipo)\n",
    "c=10+45j\n",
    "tipo=type(c)\n",
    "print(\"El \",c,\"es del tipo\",tipo)"
   ]
  },
  {
   "cell_type": "markdown",
   "metadata": {},
   "source": [
    "Crear una tupla con valores enteros imprimir el primer y ultimo valor."
   ]
  },
  {
   "cell_type": "code",
   "execution_count": 53,
   "metadata": {},
   "outputs": [
    {
     "name": "stdout",
     "output_type": "stream",
     "text": [
      "El primer valor es  23\n",
      "El último valor es  2\n"
     ]
    }
   ],
   "source": [
    "tupla=(23,29,20,24,2)\n",
    "pv=tupla[0]\n",
    "print(\"El primer valor es \",pv)\n",
    "uv=tupla[4]\n",
    "print(\"El último valor es \",uv)"
   ]
  },
  {
   "cell_type": "markdown",
   "metadata": {},
   "source": [
    "Añadir 3 valores de string a la tupla y verificar si una variable existe dentro de la tupla"
   ]
  },
  {
   "cell_type": "code",
   "execution_count": 58,
   "metadata": {},
   "outputs": [
    {
     "name": "stdout",
     "output_type": "stream",
     "text": [
      "Variable para buscar en la tupla: uanl\n",
      "La variable está en la tupla\n"
     ]
    }
   ],
   "source": [
    "tupla=('uanl','fcfm','minería')\n",
    "v=input(\"Variable para buscar en la tupla: \")\n",
    "if v in tupla:\n",
    "    print(\"La variable está en la tupla\")\n",
    "else:\n",
    "    print(\"La variable no está en la tupla\")"
   ]
  },
  {
   "cell_type": "markdown",
   "metadata": {},
   "source": [
    "Listas\n",
    "\n",
    "-Crear una lista con 40 elementos aleatorios enteros.\n",
    "\n",
    "-Con una funcion (def) crear dos listas nuevas a partir de la lista creada por numeros aleatorios, en la cual en una esten los elementos pares, y en la otra los elementos impares.\n",
    "\n",
    "-Crear dos variables con la longitud de ambas listas nuevas e imprimir las variables.\n",
    "\n",
    "-Ordenar los elementos de la lista par de mayor a menor, y los de la lista impar de menor a mayor.\n",
    "\n",
    "-Utilizar al menos cuatro de las funciones de listas en python en la lista original de 40 elementos."
   ]
  },
  {
   "cell_type": "code",
   "execution_count": null,
   "metadata": {},
   "outputs": [],
   "source": []
  },
  {
   "cell_type": "markdown",
   "metadata": {},
   "source": [
    "Diccionarios\n",
    "\n",
    "\n",
    "-Crear un diccionario de 6 personas que conozcas con su primer nombre y su edad.\n",
    "\n",
    "-Crear una lista con los valores de la edad y reacomodar la lista de menor a mayor valor.\n",
    "\n",
    "-Usando el diccionario y un loop, imprimir solo los nombres.\n",
    "\n",
    "-Añadir dos personas nuevas a tu diccionario, incluyendo edad."
   ]
  },
  {
   "cell_type": "code",
   "execution_count": 67,
   "metadata": {},
   "outputs": [
    {
     "name": "stdout",
     "output_type": "stream",
     "text": [
      "Edades de menor a mayor   [17, 18, 19, 20, 21, 24]\n",
      "Los nombres son  \n",
      "Mario\n",
      "Diana\n",
      "José\n",
      "Ricardo\n",
      "Alejandro\n",
      "Kerhy\n",
      "El nuevo diccionario es  {'Mario': 20, 'Diana': 21, 'José': 18, 'Ricardo': 24, 'Alejandro': 17, 'Kerhy': 19, 'Roberto': 26, 'Melanie': 16}\n"
     ]
    }
   ],
   "source": [
    "def personas(self,nombre,edad):\n",
    "    self.nombre=nombre\n",
    "    self.edad=edad\n",
    "dicc={'Mario':20,'Diana':21,'José':18,'Ricardo':24,'Alejandro':17,'Kerhy':19}\n",
    "edades=list()\n",
    "for e in dicc:\n",
    "    edades.append(dicc[e])\n",
    "edades.sort()\n",
    "print(\"Edades de menor a mayor  \",edades)\n",
    "print(\"Los nombres son  \")\n",
    "nom=dicc.keys() \n",
    "for nombre in nom:\n",
    "    print(nombre)\n",
    "dicc['Roberto']=26\n",
    "dicc['Melanie']=16\n",
    "print(\"El nuevo diccionario es \",dicc)"
   ]
  },
  {
   "cell_type": "markdown",
   "metadata": {},
   "source": [
    "Sets\n",
    "\n",
    "-Crea un set con 100 numeros aleatorios enteros del 1 al 25.\n",
    "\n",
    "-Comprueba la longitud de tu set.\n",
    "\n",
    "-Crea una lista de 5 numeros aleatorios del 1 al 10 y comprueba si cada valor aparece en el set inicial."
   ]
  },
  {
   "cell_type": "code",
   "execution_count": 74,
   "metadata": {},
   "outputs": [
    {
     "name": "stdout",
     "output_type": "stream",
     "text": [
      "El set es  {0, 1, 2, 3, 4, 5, 6, 7, 8, 9, 10, 11, 12, 13, 14, 15, 16, 17, 18, 19, 20, 21, 22, 23, 24}\n",
      "La longitud del set es   25\n",
      "Lista de 5 números aleatorios   [4, 5, 4, 0, 4]\n",
      "El  4  está en el set.\n",
      "El  5  está en el set.\n",
      "El  4  está en el set.\n",
      "El  0  está en el set.\n",
      "El  4  está en el set.\n"
     ]
    }
   ],
   "source": [
    "import random\n",
    "s=set()\n",
    "ls=list()\n",
    "for i in range(0,100):\n",
    "    rr=random.randint(0,24)\n",
    "    s.add(rr)\n",
    "print(\"El set es \",s)\n",
    "le=len(s)\n",
    "print(\"La longitud del set es  \",le)\n",
    "for i in range(0,5):\n",
    "    rr=random.randint(0,10)\n",
    "    ls.append(rr)\n",
    "print(\"Lista de 5 números aleatorios  \",ls)\n",
    "for n in ls:\n",
    "    if n in s:\n",
    "        print(\"El \",n,\" está en el set.\")\n",
    "    else:\n",
    "        print(\"El \",n,\" no está en el set.\")"
   ]
  }
 ],
 "metadata": {
  "kernelspec": {
   "display_name": "Python 3",
   "language": "python",
   "name": "python3"
  },
  "language_info": {
   "codemirror_mode": {
    "name": "ipython",
    "version": 3
   },
   "file_extension": ".py",
   "mimetype": "text/x-python",
   "name": "python",
   "nbconvert_exporter": "python",
   "pygments_lexer": "ipython3",
   "version": "3.8.5"
  }
 },
 "nbformat": 4,
 "nbformat_minor": 4
}
