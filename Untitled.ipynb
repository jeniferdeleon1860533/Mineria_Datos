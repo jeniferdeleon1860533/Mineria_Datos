{
 "cells": [
  {
   "cell_type": "markdown",
   "metadata": {},
   "source": [
    "**EJERCICIOS BÁSICOS DE PYTHON**\n",
    "Nombre: Jennifer Priscila de León Flores\n",
    "Matrícula: 1860533\n",
    "Grupo: 003 \n",
    "**Ejercicio 1**\n",
    "Realiza una variable con tu matricula y realiza una secuencia de imprimir con tu nombre y tu matricula concatenados.\n"
   ]
  },
  {
   "cell_type": "code",
   "execution_count": 6,
   "metadata": {},
   "outputs": [
    {
     "name": "stdout",
     "output_type": "stream",
     "text": [
      "Jennifer Priscila de León Flores  1860533\n"
     ]
    }
   ],
   "source": [
    "m=1860533\n",
    "nombre='Jennifer Priscila de León Flores'\n",
    "print(nombre,\"\",str(m))"
   ]
  }
 ],
 "metadata": {
  "kernelspec": {
   "display_name": "Python 3",
   "language": "python",
   "name": "python3"
  },
  "language_info": {
   "codemirror_mode": {
    "name": "ipython",
    "version": 3
   },
   "file_extension": ".py",
   "mimetype": "text/x-python",
   "name": "python",
   "nbconvert_exporter": "python",
   "pygments_lexer": "ipython3",
   "version": "3.8.5"
  }
 },
 "nbformat": 4,
 "nbformat_minor": 4
}
